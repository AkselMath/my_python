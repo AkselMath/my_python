{
 "cells": [
  {
   "cell_type": "code",
   "execution_count": 7,
   "metadata": {},
   "outputs": [],
   "source": [
    "#Задание 1\n",
    "class CompressedList(list):\n",
    "    def __iter__(self):\n",
    "        return ComressedListIterator(self)\n",
    "\n",
    "class ComressedListIterator:\n",
    "    def __init__(self, arr):\n",
    "        self.arr = arr\n",
    "        self.counter = 0\n",
    "        self.index = 0\n",
    "  \n",
    "    def __next__(self):            \n",
    "        if self.counter >= self.arr[self.index][1]:\n",
    "            self.index += 1\n",
    "            self.counter = 0\n",
    "        self.counter += 1\n",
    "        \n",
    "        if self.index == len(self.arr):\n",
    "            raise StopIteration\n",
    "        \n",
    "        return self.arr[self.index][0]"
   ]
  },
  {
   "cell_type": "code",
   "execution_count": 8,
   "metadata": {},
   "outputs": [
    {
     "name": "stdout",
     "output_type": "stream",
     "text": [
      "[1, 1, 1, 1, 2, 2, 1, 1, 1, 3, 3, 3, 3]\n",
      "[1, 1, 1, 1, 2, 2, 1, 1, 1, 3, 3, 3, 3]\n",
      "True\n"
     ]
    }
   ],
   "source": [
    "original = [1, 1, 1, 1, 2, 2, 1, 1, 1, 3, 3, 3, 3]\n",
    "compressed = CompressedList([(1, 4), (2, 2), (1, 3), (3, 4)])\n",
    "\n",
    "decompressed = [x for x in compressed]\n",
    "\n",
    "print(original)\n",
    "print(decompressed)\n",
    "print(original == decompressed)"
   ]
  },
  {
   "cell_type": "code",
   "execution_count": 9,
   "metadata": {},
   "outputs": [
    {
     "data": {
      "text/plain": [
       "[0, 1, 2]"
      ]
     },
     "execution_count": 9,
     "metadata": {},
     "output_type": "execute_result"
    }
   ],
   "source": [
    "#Задание 2\n",
    "\n",
    "class ArithProgress:\n",
    "    def __init__(self, a, b, c):\n",
    "        self.a = a\n",
    "        self.b = b\n",
    "        self.c = c\n",
    "    \n",
    "    def __iter__(self):\n",
    "        while self.c > self.a:\n",
    "            yield self.a\n",
    "            self.a +=self.b\n",
    "\n",
    "b =  ArithProgress(0,1,3)\n",
    "list(b)"
   ]
  },
  {
   "cell_type": "code",
   "execution_count": null,
   "metadata": {},
   "outputs": [],
   "source": []
  }
 ],
 "metadata": {
  "kernelspec": {
   "display_name": "Python 3",
   "language": "python",
   "name": "python3"
  },
  "language_info": {
   "codemirror_mode": {
    "name": "ipython",
    "version": 3
   },
   "file_extension": ".py",
   "mimetype": "text/x-python",
   "name": "python",
   "nbconvert_exporter": "python",
   "pygments_lexer": "ipython3",
   "version": "3.8.3"
  }
 },
 "nbformat": 4,
 "nbformat_minor": 4
}
