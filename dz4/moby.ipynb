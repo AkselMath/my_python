{
 "cells": [
  {
   "cell_type": "code",
   "execution_count": 24,
   "metadata": {},
   "outputs": [
    {
     "name": "stdout",
     "output_type": "stream",
     "text": [
      "call me ishmael  some years agonever mind how long preciselyhaving little or no money in my purse and nothing particularto interest me on shore i thought i would sail about a littleand see the watery part of the world  it is a way i haveof driving off the spleen and regulating the circulationwhenever i find myself growing grim about the mouth;whenever it is a damp drizzly november in my soul; whenever ifind myself involuntarily pausing before coffin warehousesand bringing up the rear of every funeral i meet;and especially whenever my hypos get such an upper hand of methat it requires a strong moral principle to prevent me fromdeliberately stepping into the street and methodically knockingpeople's hats offthen i account it high time to get to seaas soon as i can  this is my substitute for pistol and ballwith a philosophical flourish cato throws himself upon his sword;i quietly take to the ship  there is nothing surprising in thisif they but knew it almost all men in their degree some timeor other cherish very nearly the same feelings towardsthe ocean with methere now is your insular city of the manhattoes belted round by wharvesas indian isles by coral reefscommerce surrounds it with her surfright and left the streets take you waterward  its extreme downtownis the battery where that noble mole is washed by waves and cooledby breezes which a few hours previous were out of sight of landlook at the crowds of watergazers there\n"
     ]
    }
   ],
   "source": [
    "with open('mobi.txt') as file:\n",
    "    planets = file.read()\n",
    "trantab = str.maketrans(\"\", \"\", \"\\n,.!?-\")\n",
    "\n",
    "s = planets.translate(trantab)\n",
    "s = s.lower()\n",
    "\n",
    "print(s)"
   ]
  },
  {
   "cell_type": "code",
   "execution_count": null,
   "metadata": {},
   "outputs": [],
   "source": []
  }
 ],
 "metadata": {
  "kernelspec": {
   "display_name": "Python 3",
   "language": "python",
   "name": "python3"
  },
  "language_info": {
   "codemirror_mode": {
    "name": "ipython",
    "version": 3
   },
   "file_extension": ".py",
   "mimetype": "text/x-python",
   "name": "python",
   "nbconvert_exporter": "python",
   "pygments_lexer": "ipython3",
   "version": "3.7.4"
  }
 },
 "nbformat": 4,
 "nbformat_minor": 4
}
