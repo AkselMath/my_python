{
 "cells": [
  {
   "cell_type": "code",
   "execution_count": 1,
   "metadata": {},
   "outputs": [],
   "source": [
    "with open('sber.txt', 'r', encoding='utf8') as file:\n",
    "    contents = file.readlines()\n",
    "    \n",
    "    \n",
    "contents = contents[72:5965]\n",
    "\n",
    "for i in range(0,len(contents)):\n",
    "    contents[i] = contents[i][45:len(contents[i])-1]\n",
    "    \n",
    "x = []\n",
    "\n",
    "for i in range(0,len(contents)):\n",
    "    if contents[i][contents[i].index(',') + 1:contents[i].index('-')] == '2017':\n",
    "        x.append(contents[i])"
   ]
  },
  {
   "cell_type": "code",
   "execution_count": 2,
   "metadata": {},
   "outputs": [
    {
     "data": {
      "text/plain": [
       "'Москва'"
      ]
     },
     "execution_count": 2,
     "metadata": {},
     "output_type": "execute_result"
    }
   ],
   "source": [
    "b = []\n",
    "a = []\n",
    "k = -1\n",
    "for i in range(0, len(x)):\n",
    "    if i % 12 == 0:\n",
    "        k += 1\n",
    "        b.append([])\n",
    "        a.append([])\n",
    "    b[k].append(x[i][:x[i].index(',')])\n",
    "    a[k].append(int(x[i][x[i].rindex(',') + 1::]))\n",
    "    \n",
    "for i in range(0,len(a)):\n",
    "    a[i] = sum(a[i])\n",
    "\n",
    "b[a.index(max(a))][1]"
   ]
  },
  {
   "cell_type": "code",
   "execution_count": null,
   "metadata": {},
   "outputs": [],
   "source": []
  }
 ],
 "metadata": {
  "kernelspec": {
   "display_name": "Python 3",
   "language": "python",
   "name": "python3"
  },
  "language_info": {
   "codemirror_mode": {
    "name": "ipython",
    "version": 3
   },
   "file_extension": ".py",
   "mimetype": "text/x-python",
   "name": "python",
   "nbconvert_exporter": "python",
   "pygments_lexer": "ipython3",
   "version": "3.7.4"
  }
 },
 "nbformat": 4,
 "nbformat_minor": 4
}
