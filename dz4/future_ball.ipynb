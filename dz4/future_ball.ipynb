{
 "cells": [
  {
   "cell_type": "code",
   "execution_count": 1,
   "metadata": {},
   "outputs": [],
   "source": [
    "with open('volshShar.txt', encoding = 'utf8') as file:\n",
    "    planets = file.readlines()\n",
    "\n",
    "\n",
    "trantab = str.maketrans(\"\", \"\", \"\\n\")\n",
    "for i in range(0, len(planets)):\n",
    "    planets[i] = planets[i].translate(trantab)"
   ]
  },
  {
   "cell_type": "code",
   "execution_count": null,
   "metadata": {},
   "outputs": [],
   "source": [
    "import random\n",
    "a = input('Введите вопрос: ')\n",
    "while a != 'Выйти':\n",
    "    o = random.randint(0,len(planets))\n",
    "    print(planets[o])\n",
    "    print('Если не хотите больше задавать вопросы напишите: Выйти')\n",
    "    a = input('Введите вопрос: ')"
   ]
  },
  {
   "cell_type": "code",
   "execution_count": null,
   "metadata": {},
   "outputs": [],
   "source": []
  }
 ],
 "metadata": {
  "kernelspec": {
   "display_name": "Python 3",
   "language": "python",
   "name": "python3"
  },
  "language_info": {
   "codemirror_mode": {
    "name": "ipython",
    "version": 3
   },
   "file_extension": ".py",
   "mimetype": "text/x-python",
   "name": "python",
   "nbconvert_exporter": "python",
   "pygments_lexer": "ipython3",
   "version": "3.7.4"
  }
 },
 "nbformat": 4,
 "nbformat_minor": 4
}
