{
 "cells": [
  {
   "cell_type": "code",
   "execution_count": 15,
   "metadata": {},
   "outputs": [
    {
     "name": "stdout",
     "output_type": "stream",
     "text": [
      "текущие задачи из файла: Простой todo:  1. Добавить задачу. 2. Вывести список задач. 3. Выход.\n"
     ]
    },
    {
     "name": "stdin",
     "output_type": "stream",
     "text": [
      "Укажите число:  1\n",
      "Сформулируйте задачу:  dwe\n",
      "Добавьте категорию к задаче:  ef\n",
      "Добавьте время к задаче:  fwe\n",
      "Укажите число:  2\n"
     ]
    },
    {
     "name": "stdout",
     "output_type": "stream",
     "text": [
      "[{'Купить': 32}, {'Задачу ': 'dwe', 'Категория': 'ef', 'Время': 'fwe'}]\n"
     ]
    },
    {
     "name": "stdin",
     "output_type": "stream",
     "text": [
      "Укажите число:  3\n"
     ]
    }
   ],
   "source": [
    "import json\n",
    "print('текущие задачи из файла: Простой todo:  1. Добавить задачу. 2. Вывести список задач. 3. Выход.')\n",
    "k = int(input('Укажите число: '))\n",
    "\n",
    "while k != 3:\n",
    "    if k == 1:\n",
    "        data = []\n",
    "        s = input('Сформулируйте задачу: ')\n",
    "        v = input('Добавьте категорию к задаче: ')\n",
    "        b = input('Добавьте время к задаче: ')\n",
    "        g = {'Задачу ': s, 'Категория': v, 'Время': b}\n",
    "        with open(\"ter.json\", 'r') as file:\n",
    "            data = json.load(file)\n",
    "        data.append(g)\n",
    "        \n",
    "        with open('ter.json', 'w') as f:\n",
    "            json.dump(data, f)\n",
    "            \n",
    "    if k == 2:\n",
    "        with open(\"ter.json\") as read_file:\n",
    "            print(json.load(read_file))\n",
    "    \n",
    "    k = int(input('Укажите число: '))"
   ]
  },
  {
   "cell_type": "code",
   "execution_count": null,
   "metadata": {},
   "outputs": [],
   "source": []
  }
 ],
 "metadata": {
  "kernelspec": {
   "display_name": "Python 3",
   "language": "python",
   "name": "python3"
  },
  "language_info": {
   "codemirror_mode": {
    "name": "ipython",
    "version": 3
   },
   "file_extension": ".py",
   "mimetype": "text/x-python",
   "name": "python",
   "nbconvert_exporter": "python",
   "pygments_lexer": "ipython3",
   "version": "3.7.4"
  }
 },
 "nbformat": 4,
 "nbformat_minor": 4
}
