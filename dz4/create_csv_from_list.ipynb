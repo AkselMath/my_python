{
 "cells": [
  {
   "cell_type": "code",
   "execution_count": 75,
   "metadata": {},
   "outputs": [],
   "source": [
    "import csv\n",
    "import os\n",
    "def cvs1(a, b):\n",
    "    s = [('name', 'address', 'age')]\n",
    "    s.extend(b)\n",
    "    with open(a, 'w') as f:\n",
    "        writer = csv.writer(f)\n",
    "        for row in s:\n",
    "            writer.writerow(row)"
   ]
  },
  {
   "cell_type": "code",
   "execution_count": 76,
   "metadata": {},
   "outputs": [],
   "source": [
    "b = [('fds', 'fdgs', '34'), ('gsgs', 'fwe', '352')]\n",
    "cvs1('ffsa.csv',b)"
   ]
  },
  {
   "cell_type": "code",
   "execution_count": 77,
   "metadata": {},
   "outputs": [
    {
     "name": "stdout",
     "output_type": "stream",
     "text": [
      "name,address,age\n",
      "\n",
      "fds,fdgs,34\n",
      "\n",
      "gsgs,fwe,352\n",
      "\n",
      "\n"
     ]
    }
   ],
   "source": [
    "with open('ffsa.csv') as f:\n",
    "    print(f.read())"
   ]
  }
 ],
 "metadata": {
  "kernelspec": {
   "display_name": "Python 3",
   "language": "python",
   "name": "python3"
  },
  "language_info": {
   "codemirror_mode": {
    "name": "ipython",
    "version": 3
   },
   "file_extension": ".py",
   "mimetype": "text/x-python",
   "name": "python",
   "nbconvert_exporter": "python",
   "pygments_lexer": "ipython3",
   "version": "3.7.4"
  }
 },
 "nbformat": 4,
 "nbformat_minor": 4
}
