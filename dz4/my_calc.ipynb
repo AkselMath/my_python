{
 "cells": [
  {
   "cell_type": "code",
   "execution_count": 54,
   "metadata": {},
   "outputs": [],
   "source": [
    "def kalkul(x,y):\n",
    "    a = input(\"Введите оператор: \")\n",
    "    try:\n",
    "        if a != '':\n",
    "            d = int(eval(str(x) + a + str(y)))\n",
    "            return d\n",
    "        else:\n",
    "            print('не тот оператор')\n",
    "\n",
    "    except ZeroDivisionError:\n",
    "        print('Вы делите на ноль, так нельзя )')\n",
    "    except ValueError:\n",
    "        print('Вы ввели не числа')\n",
    "    except SyntaxError:\n",
    "        print('не тот оператор')\n",
    "        "
   ]
  },
  {
   "cell_type": "code",
   "execution_count": 57,
   "metadata": {},
   "outputs": [
    {
     "name": "stdout",
     "output_type": "stream",
     "text": [
      "Введите оператор: d\n",
      "не тот оператор\n"
     ]
    }
   ],
   "source": [
    "kalkul(2,0)\n"
   ]
  },
  {
   "cell_type": "code",
   "execution_count": null,
   "metadata": {},
   "outputs": [],
   "source": []
  }
 ],
 "metadata": {
  "kernelspec": {
   "display_name": "Python 3",
   "language": "python",
   "name": "python3"
  },
  "language_info": {
   "codemirror_mode": {
    "name": "ipython",
    "version": 3
   },
   "file_extension": ".py",
   "mimetype": "text/x-python",
   "name": "python",
   "nbconvert_exporter": "python",
   "pygments_lexer": "ipython3",
   "version": "3.7.4"
  }
 },
 "nbformat": 4,
 "nbformat_minor": 2
}
