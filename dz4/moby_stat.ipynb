{
 "cells": [
  {
   "cell_type": "code",
   "execution_count": 177,
   "metadata": {},
   "outputs": [
    {
     "name": "stdout",
     "output_type": "stream",
     "text": [
      "['the', 'i', 'of', 'and', 'a'] ['call', 'ishmael', 'years', 'agonever', 'mind']\n"
     ]
    }
   ],
   "source": [
    "with open('nextmobi.txt') as file:\n",
    "    planets = file.read()\n",
    "    \n",
    "y = 0\n",
    "k = planets.index(' ')\n",
    "a = [planets[0:k]]\n",
    "while k < planets.count(' '):\n",
    "    y = k + y + 1\n",
    "    k = planets[y::].find(' ')\n",
    "    if k == -1:\n",
    "        break\n",
    "    else:\n",
    "        a.append(planets[y:y+k])\n",
    "        \n",
    "trantab = str.maketrans(\"\", \"\", \" ,.!?\")\n",
    "n = 0\n",
    "while n < len(a):\n",
    "    a[n] = a[n].translate(trantab)\n",
    "    if a[n] == '':\n",
    "        a.pop(n)\n",
    "    n += 1\n",
    "    \n",
    "def histogram(s):\n",
    "    \n",
    "    word_count = {}\n",
    "    for word in s:\n",
    "        word_count.setdefault(word, 0)  # word_count[key] = 0, если такого key не было ранее\n",
    "        word_count[word] += 1 # word_count[word] = word_count[word] + 1        \n",
    "    return word_count\n",
    "\n",
    "\n",
    "\n",
    "m = histogram(a)\n",
    "v = list(m.keys())\n",
    "\n",
    "x = 'd'\n",
    "s = m[v[0]]\n",
    "t = []\n",
    "for i in range(0,5):\n",
    "    for j in range(0,len(v)):\n",
    "        if m.get(v[j],s-1) > s:\n",
    "            s = m[v[j]]\n",
    "            x = v[j]\n",
    "            \n",
    "    m.pop(x,1)\n",
    "    t.append(x)\n",
    "    s = m[v[0]]\n",
    "\n",
    "\n",
    "v = list(m.keys())\n",
    "s = 10000000\n",
    "g = []\n",
    "x = 's'\n",
    "for i in range(0,5):\n",
    "    for j in range(0,len(v)):\n",
    "        \n",
    "        if m.get(v[j],s+1) < s:\n",
    "            s = m[v[j]]\n",
    "            x = v[j]\n",
    "            \n",
    "    m.pop(x,1)\n",
    "    g.append(x)\n",
    "    s = 1000000\n",
    "    \n",
    "print(t,g)"
   ]
  },
  {
   "cell_type": "code",
   "execution_count": null,
   "metadata": {},
   "outputs": [],
   "source": []
  }
 ],
 "metadata": {
  "kernelspec": {
   "display_name": "Python 3",
   "language": "python",
   "name": "python3"
  },
  "language_info": {
   "codemirror_mode": {
    "name": "ipython",
    "version": 3
   },
   "file_extension": ".py",
   "mimetype": "text/x-python",
   "name": "python",
   "nbconvert_exporter": "python",
   "pygments_lexer": "ipython3",
   "version": "3.7.4"
  }
 },
 "nbformat": 4,
 "nbformat_minor": 4
}
