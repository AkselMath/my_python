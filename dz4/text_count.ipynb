{
 "cells": [
  {
   "cell_type": "code",
   "execution_count": 55,
   "metadata": {},
   "outputs": [],
   "source": [
    "with open('srkolSlov.txt') as file:\n",
    "    planets = file.readlines()\n",
    "\n",
    "\n",
    "trantab = str.maketrans(\"\", \"\", \"\\n\")\n",
    "for i in range(0, len(planets)):\n",
    "    planets[i] = planets[i].translate(trantab)"
   ]
  },
  {
   "cell_type": "code",
   "execution_count": 56,
   "metadata": {},
   "outputs": [
    {
     "name": "stdout",
     "output_type": "stream",
     "text": [
      "29\n",
      "1228\n",
      "30\n",
      "250\n"
     ]
    }
   ],
   "source": [
    "z = 0\n",
    "f = 0\n",
    "d = 0\n",
    "p = 0\n",
    "for i in range(0, len(planets)):\n",
    "    for j in range(0, len(planets[i])):\n",
    "        if (planets[i][j].upper() == planets[i][j]) & planets[i][j].isalpha():\n",
    "            z += 1\n",
    "        elif (planets[i][j].lower() == planets[i][j]) & planets[i][j].isalpha():\n",
    "            p += 1\n",
    "        elif planets[i][j].isdigit():\n",
    "            f += 1\n",
    "        elif planets[i][j] == ' ':\n",
    "            d += 1\n",
    "\n",
    "print(z)\n",
    "print(p)\n",
    "print(f)\n",
    "print(d)"
   ]
  },
  {
   "cell_type": "code",
   "execution_count": 57,
   "metadata": {},
   "outputs": [
    {
     "data": {
      "text/plain": [
       "25.0"
      ]
     },
     "execution_count": 57,
     "metadata": {},
     "output_type": "execute_result"
    }
   ],
   "source": [
    "a = []\n",
    "for i in range(0 ,len(planets)):\n",
    "    y = 0\n",
    "    k = planets[i].index(' ')\n",
    "    a.append([planets[i][0:k]])\n",
    "    while k < planets[i].count(' '):\n",
    "        y = k + y + 1\n",
    "        k = planets[i][y::].find(' ')\n",
    "        if k == -1:\n",
    "            break\n",
    "        else:\n",
    "            a[i].append(planets[i][y:y+k])\n",
    "            \n",
    "r = 0\n",
    "for i in range(0,len(a)):\n",
    "    r = r + len(a[i])\n",
    "r/len(a)"
   ]
  },
  {
   "cell_type": "code",
   "execution_count": null,
   "metadata": {},
   "outputs": [],
   "source": []
  }
 ],
 "metadata": {
  "kernelspec": {
   "display_name": "Python 3",
   "language": "python",
   "name": "python3"
  },
  "language_info": {
   "codemirror_mode": {
    "name": "ipython",
    "version": 3
   },
   "file_extension": ".py",
   "mimetype": "text/x-python",
   "name": "python",
   "nbconvert_exporter": "python",
   "pygments_lexer": "ipython3",
   "version": "3.7.4"
  }
 },
 "nbformat": 4,
 "nbformat_minor": 4
}
